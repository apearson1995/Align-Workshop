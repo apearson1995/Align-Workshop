{
 "cells": [
  {
   "cell_type": "markdown",
   "metadata": {
    "collapsed": true
   },
   "source": [
    "# Align Workshop 1: Intro to Computation"
   ]
  },
  {
   "cell_type": "code",
   "execution_count": null,
   "metadata": {
    "collapsed": true
   },
   "outputs": [],
   "source": [
    "# Hit Shift Enter to run this cell\n",
    "#\n",
    "# This code loads in the data and necessary code for the project\n",
    "#\n",
    "from data import *\n",
    "from library import *\n",
    "from tests import *\n",
    "import numpy as np"
   ]
  },
  {
   "cell_type": "markdown",
   "metadata": {},
   "source": [
    "## Basic Definitions, Concepts, and Syntax"
   ]
  },
  {
   "cell_type": "code",
   "execution_count": null,
   "metadata": {
    "collapsed": false
   },
   "outputs": [],
   "source": [
    "## Arithmetic Feel Free to play around with this cell\n",
    "3*3"
   ]
  },
  {
   "cell_type": "markdown",
   "metadata": {},
   "source": [
    "## What is assignment?"
   ]
  },
  {
   "cell_type": "code",
   "execution_count": null,
   "metadata": {
    "collapsed": false
   },
   "outputs": [],
   "source": [
    "foo = 3*2\n",
    "foo"
   ]
  },
  {
   "cell_type": "markdown",
   "metadata": {},
   "source": [
    "## What is a string?"
   ]
  },
  {
   "cell_type": "markdown",
   "metadata": {},
   "source": [
    "A string is composed of any amount of characters within quotation marks. For example, below shows two strings that hold DNA sequences. A lot of computing deals with strings and lucky for us the people who made Python created some useful commands for dealing with them."
   ]
  },
  {
   "cell_type": "code",
   "execution_count": null,
   "metadata": {
    "collapsed": false
   },
   "outputs": [],
   "source": [
    "string_1 = \"GGACTAGCA\"\n",
    "string_2 = \"GGACTTTCT\" "
   ]
  },
  {
   "cell_type": "markdown",
   "metadata": {},
   "source": [
    "Starting with the basics let's see if we can just get the string to print."
   ]
  },
  {
   "cell_type": "code",
   "execution_count": null,
   "metadata": {
    "collapsed": false
   },
   "outputs": [],
   "source": [
    "print(string_1)"
   ]
  },
  {
   "cell_type": "code",
   "execution_count": null,
   "metadata": {
    "collapsed": false
   },
   "outputs": [],
   "source": [
    "len(string_1)"
   ]
  },
  {
   "cell_type": "markdown",
   "metadata": {},
   "source": [
    "Fun Fact: the way \"notebooks\" work is if you just type in an object into an empty cell and run it, the notebook will call print on the string."
   ]
  },
  {
   "cell_type": "markdown",
   "metadata": {},
   "source": [
    "Analysis of Strings (Note Strings are 0-indexed):"
   ]
  },
  {
   "cell_type": "code",
   "execution_count": null,
   "metadata": {
    "collapsed": false
   },
   "outputs": [],
   "source": [
    "string_1[3]  "
   ]
  },
  {
   "cell_type": "code",
   "execution_count": null,
   "metadata": {
    "collapsed": false
   },
   "outputs": [],
   "source": [
    "## check if two letters are the same\n",
    "string_1[0] == \"G\""
   ]
  },
  {
   "cell_type": "code",
   "execution_count": null,
   "metadata": {
    "collapsed": false
   },
   "outputs": [],
   "source": [
    "## check if two letters are not equal\n",
    "string_1[1] != \"G\""
   ]
  },
  {
   "cell_type": "code",
   "execution_count": null,
   "metadata": {
    "collapsed": true
   },
   "outputs": [],
   "source": [
    "### Feel Free to use this cell to play around with == sign using strings, numbers, and whatever else you like\n"
   ]
  },
  {
   "cell_type": "markdown",
   "metadata": {},
   "source": [
    "Notice the == and != signs above. We can use these to check if two things are equal or not equal to one another. In particular these signs can be used in our code for \"conditional statements\" which are basically just ways that we can control the flow of our code. For a more concrete example, see below."
   ]
  },
  {
   "cell_type": "markdown",
   "metadata": {},
   "source": [
    "## Conditional Statements"
   ]
  },
  {
   "cell_type": "code",
   "execution_count": null,
   "metadata": {
    "collapsed": false
   },
   "outputs": [],
   "source": [
    "age = 22\n",
    "if   age >= 60:\n",
    "    print(\"Congratulations you are a senior citizen enjoy half off your breakfast at Denny's\")\n",
    "elif age >= 18:\n",
    "    print(\"Congratulations you are no longer a child\")\n",
    "else:\n",
    "    print(\"Stay in school study hard and don't do drugs\")"
   ]
  },
  {
   "cell_type": "code",
   "execution_count": null,
   "metadata": {
    "collapsed": true
   },
   "outputs": [],
   "source": [
    "## 2 minutes experiment with conditional statements in this cell\n"
   ]
  },
  {
   "cell_type": "markdown",
   "metadata": {},
   "source": [
    "From above we see that we can go through and change age manually, and re-run the cell each time to get age, but that is very time consuming. Wouldn't it be great if we could somehow package this logic in such a way that we can quickly use it on an age without constantly re-running the cell?"
   ]
  },
  {
   "cell_type": "code",
   "execution_count": null,
   "metadata": {
    "collapsed": false
   },
   "outputs": [],
   "source": [
    "def advice_giver(age):\n",
    "    if   age >= 60:\n",
    "        return(\"Congratulations you are a senior citizen enjoy your breakfast at Denny's\")\n",
    "    elif age >= 18:\n",
    "        return(\"Congratulations you are an adult\")\n",
    "    else:\n",
    "        return(\"Enjoy childhood while it lasts\")\n",
    "        \n",
    "advice_giver(99)"
   ]
  },
  {
   "cell_type": "markdown",
   "metadata": {},
   "source": [
    "Since we will want to reuse our code again and again, we will want to put our code for counting the proportion of differences into a function."
   ]
  },
  {
   "cell_type": "code",
   "execution_count": null,
   "metadata": {
    "collapsed": false
   },
   "outputs": [],
   "source": [
    "\"\"\"\n",
    "Computes proportion of differing letters from two strings of the same size\n",
    "Args:\n",
    "    s1: string 1\n",
    "    s2: string 2 \n",
    "Returns:\n",
    "    proportion (in between 0 and 1) of differing letters\n",
    "\"\"\"\n",
    "\n",
    "def prop_diff(s1,s2):\n",
    "    # Do Stuff \n",
    "    return"
   ]
  },
  {
   "cell_type": "markdown",
   "metadata": {},
   "source": [
    "## Natural Question:\n",
    "\n",
    "Furthermore you may be wondering how we obtain the data from the dentist and his patients (i.e. do we have to type out an entire sequence manually into the computer?) The short answer to this question is no. We have already done all of the data acquisition and cleaned it up for you. But do note in the \"real world\" cleaning and processing data is a very important skill to have. "
   ]
  },
  {
   "cell_type": "code",
   "execution_count": null,
   "metadata": {
    "collapsed": false
   },
   "outputs": [],
   "source": [
    "dnt"
   ]
  },
  {
   "cell_type": "code",
   "execution_count": null,
   "metadata": {
    "collapsed": false
   },
   "outputs": [],
   "source": [
    "len(dnt)"
   ]
  },
  {
   "cell_type": "markdown",
   "metadata": {},
   "source": [
    "Up until know it may have been reasonable, with say very small strings of say size 9 as in our first example, to write out all of the cases manually in a function. (i.e. to make our computer to calculate proportion of change with the following code: "
   ]
  },
  {
   "cell_type": "markdown",
   "metadata": {},
   "source": [
    "## Code Prop Diff With only 9 nucleotides"
   ]
  },
  {
   "cell_type": "code",
   "execution_count": null,
   "metadata": {
    "collapsed": true
   },
   "outputs": [],
   "source": [
    "\"\"\"\n",
    "Computes proportion of differing letters from two strings of the same size \n",
    "Args:\n",
    "    s1: string 1 (Assuming length 9)\n",
    "    s2: string 2 (Assuming length 9)\n",
    "Returns:\n",
    "    proportion (in between 0 and 1) of differing letters\n",
    "\"\"\"\n",
    "\n",
    "def prop_diff(s1,s2):\n",
    "    # Your Code Here\n",
    "    return "
   ]
  },
  {
   "cell_type": "markdown",
   "metadata": {},
   "source": [
    "This strategy suffers 2 major draw backs:\n",
    "1. It is not easily generalizable to do this, in other words we will have to write a new function for every string size.\n",
    "2. It was already very tedious doing it this way for strings of length 9, imagine doing so for a string of size 325.\n",
    "\n",
    "The key solution to our problem is the while loop."
   ]
  },
  {
   "cell_type": "markdown",
   "metadata": {},
   "source": [
    "### What is a \"loop\", and how can it be used?"
   ]
  },
  {
   "cell_type": "markdown",
   "metadata": {},
   "source": [
    "A loop is a tool used by programmers to repeat a sequence of instructions until a certain condition is reached. For example, in the while loop below, the inner code is computed until the condition (i being less than the length of the string) is no longer true."
   ]
  },
  {
   "cell_type": "code",
   "execution_count": null,
   "metadata": {
    "collapsed": false
   },
   "outputs": [],
   "source": [
    "i = 0\n",
    "while  i < len(string_1):\n",
    "    print(string_1[i])\n",
    "    i += 1"
   ]
  },
  {
   "cell_type": "markdown",
   "metadata": {
    "collapsed": false
   },
   "source": [
    "# Fibonnaci Time"
   ]
  },
  {
   "cell_type": "code",
   "execution_count": null,
   "metadata": {
    "collapsed": false
   },
   "outputs": [],
   "source": [
    "# Fibonnaci Sequence 1,1,2,3,5,8,13,21,34,55,89,...\n",
    "\"\"\"\n",
    "Computes the ith Fibonnaci Number starting with index 0.\n",
    "For instance fib(0)==1 and fib(4) ==5 should both give true. \n",
    "\"\"\"\n",
    "def fib(ith):\n",
    "    ## Your Code Here\n",
    "    return \n",
    " "
   ]
  },
  {
   "cell_type": "code",
   "execution_count": null,
   "metadata": {
    "collapsed": false
   },
   "outputs": [],
   "source": [
    "fib(0) == 1"
   ]
  },
  {
   "cell_type": "code",
   "execution_count": null,
   "metadata": {
    "collapsed": true
   },
   "outputs": [],
   "source": [
    "fib(4) == 5"
   ]
  },
  {
   "cell_type": "markdown",
   "metadata": {},
   "source": [
    "## Now try to write prop_diff function using a while loop"
   ]
  },
  {
   "cell_type": "code",
   "execution_count": null,
   "metadata": {
    "collapsed": true
   },
   "outputs": [],
   "source": [
    "\"\"\"\n",
    "Computes proportion of differing letters from two strings of the same size\n",
    "Args:\n",
    "    s1: string 1\n",
    "    s2: string 2 \n",
    "Returns:\n",
    "    proportion (in between 0 and 1) of differing letters\n",
    "\"\"\"\n",
    "\n",
    "def prop_diff(s1,s2):\n",
    "    # Your Code Here\n",
    "    return "
   ]
  },
  {
   "cell_type": "code",
   "execution_count": null,
   "metadata": {
    "collapsed": false
   },
   "outputs": [],
   "source": [
    "# Run the following code to test your function\n",
    "test_prop_diff(prop_diff) "
   ]
  },
  {
   "cell_type": "markdown",
   "metadata": {},
   "source": [
    "But this function does not tell all of the story. It turns out it is useful to instead calculate two different proportions of the string, because due to the chemical properties of the molecules some exchanges are more likely to occur than others, and we can improve our algorithm by taking this into account. Fortunately for us this algorithm is very similiar to the previous one we just wrote."
   ]
  },
  {
   "cell_type": "markdown",
   "metadata": {},
   "source": [
    "# More Sophisticated Distance"
   ]
  },
  {
   "cell_type": "markdown",
   "metadata": {},
   "source": [
    "See if you can understand why the below code works, it should make sense if you understand prop_diff."
   ]
  },
  {
   "cell_type": "code",
   "execution_count": null,
   "metadata": {
    "collapsed": true
   },
   "outputs": [],
   "source": [
    "\"\"\"\n",
    "Compute proportion of transitions from two strings of the of the same length. \n",
    "\n",
    "Transitions are  (A<->G, C<->T)\n",
    "\n",
    "Args: \n",
    "    s1: string 1\n",
    "    s2: string 2\n",
    "\n",
    "Return:\n",
    "    Error if the strings are not of same length\n",
    "    Else, return a and b of different letters\n",
    "\"\"\"\n",
    "def prop_trs(s1,s2):\n",
    "    # Your Code Here\n",
    "    if len(s1) != len(s2):\n",
    "        raise ValueError(\"Cannot compute compare DNA sequences of differing length\")\n",
    "    diffs = 0\n",
    "    i     = 0\n",
    "    while i < len(s1):\n",
    "        if s1[i] == \"A\" and s2[i] == \"G\":\n",
    "            diffs += 1\n",
    "        elif s1[i] == \"G\" and s2[i] == \"A\":\n",
    "            diffs += 1\n",
    "        elif s1[i] == \"C\" and s2[i] == \"T\":\n",
    "            diffs += 1\n",
    "        elif s1[i] == \"T\" and s2[i] == \"C\":\n",
    "            diffs += 1\n",
    "        i += 1\n",
    "    return float(diffs)/float(len(s1))"
   ]
  },
  {
   "cell_type": "code",
   "execution_count": null,
   "metadata": {
    "collapsed": true
   },
   "outputs": [],
   "source": [
    "\"\"\"\n",
    "Compute proportion of transversions from two strings of the same length. \n",
    "\n",
    "Transversions are (A<->C, A<->T, C<->G, G<->T).\n",
    "\n",
    "Args: \n",
    "    s1: string 1\n",
    "    s2: string 2\n",
    "\n",
    "Return:\n",
    "    Error if the strings are not of same length\n",
    "    Else, return a and b of different letters\n",
    "\"\"\"\n",
    "def prop_trv(s1,s2):\n",
    "    # Your Code Here\n",
    "    if len(s1) != len(s2):\n",
    "        raise ValueError(\"Cannot compute compare DNA sequences of differing length\")\n",
    "    diffs = 0\n",
    "    i     = 0\n",
    "    while i < len(s1):\n",
    "        if s1[i] == \"A\" and s2[i] == \"C\":\n",
    "            diffs += 1\n",
    "        elif s1[i] == \"C\" and s2[i] == \"A\":\n",
    "            diffs += 1\n",
    "        elif s1[i] == \"A\" and s2[i] == \"T\":\n",
    "            diffs += 1\n",
    "        elif s1[i] == \"T\" and s2[i] == \"A\":\n",
    "            diffs += 1\n",
    "        elif s1[i] == \"C\" and s2[i] == \"G\":\n",
    "            diffs += 1\n",
    "        elif s1[i] == \"G\" and s2[i] == \"C\":\n",
    "            diffs += 1\n",
    "        elif s1[i] == \"G\" and s2[i] == \"T\":\n",
    "            diffs += 1\n",
    "        elif s1[i] == \"T\" and s2[i] == \"G\":\n",
    "            diffs += 1\n",
    "        i += 1\n",
    "    return float(diffs)/float(len(s1))"
   ]
  },
  {
   "cell_type": "markdown",
   "metadata": {
    "collapsed": true
   },
   "source": [
    "## An Apology"
   ]
  },
  {
   "cell_type": "markdown",
   "metadata": {
    "collapsed": true
   },
   "source": [
    "Up until this point we have somewhat dishonestly been suggesting that a way to accurately calculate the distance between any two sequences is by calculating the proportion of different nucleotides between two sequences.  Whereas in reality this technique is never used in tree constructing algorithms. Why it is not used is a discussion for another time, but you can rest easy knowing that a lot of very smart people have been thinking about this problem for a very long time, and have developed some fantastic distance formulas.\n",
    "\n",
    "For the more matthematically inclined who are familiar with stochastic processes I reccomend reading the wikipedea page on modeling molecular evolution: https://en.wikipedia.org/wiki/Models_of_DNA_evolution. (Also UC Berkeley offers 2 classes: Math 127 and CS 176 that explore these topics in greater depth).\n",
    "\n",
    "Now before you run for the exits, fed up with our hand-wavy explanations, it is important to note that generally in life, and particularly in programming we have to take on faith that things work in order to build on other people's discoveries. Or perhaps more eloquently..."
   ]
  },
  {
   "cell_type": "code",
   "execution_count": null,
   "metadata": {
    "collapsed": false
   },
   "outputs": [],
   "source": [
    "import IPython.display \n",
    "seq_cost = IPython.display.Image(\"http://24.media.tumblr.com/tumblr_lxw9g91qS81qfvq9bo1_500.jpg\")\n",
    "seq_cost"
   ]
  },
  {
   "cell_type": "markdown",
   "metadata": {
    "collapsed": true
   },
   "source": [
    "Furthermore, this idea is so important for programming that computer scientists have a specific term for being able to use something without knowing all of the mechanisms by which it operates, namely abstraction. For example, when you drive a car and push the brake, you don't need to know the exact mechanism of how it stops the car, just that when you push a button, the car will slow down. Using abstraction let's us take for granted that the following Algorithm provides a reasonable estimate for the distance between two sequences; the proportion is a key ingredient in all distance functions, yet the actual algorithm involves more advanced mathematics."
   ]
  },
  {
   "cell_type": "markdown",
   "metadata": {},
   "source": [
    "## Computation: It’s about the community"
   ]
  },
  {
   "cell_type": "code",
   "execution_count": null,
   "metadata": {
    "collapsed": false
   },
   "outputs": [],
   "source": [
    "community = IPython.display.Image(\"http://cdn3.whatculture.com/wp-content/uploads/2013/05/community.jpg\")\n",
    "community"
   ]
  },
  {
   "cell_type": "markdown",
   "metadata": {},
   "source": [
    "No use in re-inventing the wheel. There is an abundance of very high quality free code in the world. As you can see from the code in your directory i.e. (test.py, data.py, library.py). Lets Use a distance formula that has been approved by the experts and is implemented in our library"
   ]
  },
  {
   "cell_type": "markdown",
   "metadata": {},
   "source": [
    "## Jukes Cantor Distance"
   ]
  },
  {
   "cell_type": "code",
   "execution_count": null,
   "metadata": {
    "collapsed": false
   },
   "outputs": [],
   "source": [
    "# Example of Jukes-Cantor Distance\n",
    "JC_distance(\"ATTGAC\",\"ATGGCC\")"
   ]
  },
  {
   "cell_type": "markdown",
   "metadata": {},
   "source": [
    "## Natural Question: How do we generalize to case of N strands of DNA"
   ]
  },
  {
   "cell_type": "markdown",
   "metadata": {},
   "source": [
    "### Idea: can we just calculate all of the pairwise distances and hold the data in a structure of some sort?"
   ]
  },
  {
   "cell_type": "markdown",
   "metadata": {},
   "source": [
    "## Introduction to Data Structures "
   ]
  },
  {
   "cell_type": "markdown",
   "metadata": {},
   "source": [
    "A data structure is a specialized format for organizing and storing data. General data structure types include the array, the file, the record, the table, the tree, and so on. Any data structure is designed to organize data to suit a specific purpose so that it can be accessed and worked with in appropriate ways. (Google)"
   ]
  },
  {
   "cell_type": "markdown",
   "metadata": {},
   "source": [
    "## Matrices\n",
    "A matrix is a rectangular array of quantities or expressions in rows and columns that is treated as a single entity and manipulated according to particular rules."
   ]
  },
  {
   "cell_type": "code",
   "execution_count": null,
   "metadata": {
    "collapsed": false
   },
   "outputs": [],
   "source": [
    "import IPython.display \n",
    "IPython.display.Image(\"http://img.my.csdn.net/uploads/201304/21/1366553235_6202.png\")"
   ]
  },
  {
   "cell_type": "markdown",
   "metadata": {},
   "source": [
    "# Pairwise Distance Matrix"
   ]
  },
  {
   "cell_type": "code",
   "execution_count": null,
   "metadata": {
    "collapsed": false
   },
   "outputs": [],
   "source": [
    "pairwise_distances = JC_matrix_maker(HIV_seqs)\n",
    "print(pairwise_distances)"
   ]
  },
  {
   "cell_type": "markdown",
   "metadata": {},
   "source": [
    "This Data is kind of hard to interpret, wouldn't it be nice if there was some way to use this data to try and create some sort of phylogentic tree of the data?  "
   ]
  },
  {
   "cell_type": "markdown",
   "metadata": {},
   "source": [
    "## If only there was a data structure for this..."
   ]
  },
  {
   "cell_type": "markdown",
   "metadata": {},
   "source": [
    "## Trees"
   ]
  },
  {
   "cell_type": "markdown",
   "metadata": {},
   "source": [
    "Trees are often useful to model Hierarchical relationship between data."
   ]
  },
  {
   "cell_type": "code",
   "execution_count": null,
   "metadata": {
    "collapsed": false
   },
   "outputs": [],
   "source": [
    "import IPython.display \n",
    "IPython.display.Image(\"https://upload.wikimedia.org/wikipedia/commons/thumb/f/f7/Binary_tree.svg/220px-Binary_tree.svg.png\")"
   ]
  },
  {
   "cell_type": "markdown",
   "metadata": {},
   "source": [
    " Making a tree from the pairwise distances is significantly more complicated of a task.  But fortunately a lot of very smart people have been thinking about this problem for a very long time, and they have developed a lot of very good algorithms to solve this problem.  One of the many algorithms used to do this is the \"UPGMA\" algorithm. Although \"UPGMA\" was not the Algorithm used by the investigators of the HIV dentist mystery, it is close enough of an approximation for the purposes of this workshop, and is a pre-requisite for understanding more sophisticated methods.\n",
    "UPGMA is short for Unweighted Pair Group Method with Arithmetic Mean.  While this sounds like a mouthful, there is a great tutorial on http://www.southampton.ac.uk/~re1u06/teaching/upgma/ (click the link).\n",
    "\n",
    "After Running the Algorithm we get:"
   ]
  },
  {
   "cell_type": "code",
   "execution_count": null,
   "metadata": {
    "collapsed": false
   },
   "outputs": [],
   "source": [
    "# UPGMA ran on a subset of the data\n",
    "import IPython.display \n",
    "seq_cost = IPython.display.Image(\"http://i.imgur.com/TnD7gsh.png\")\n",
    "seq_cost"
   ]
  },
  {
   "cell_type": "code",
   "execution_count": null,
   "metadata": {
    "collapsed": false
   },
   "outputs": [],
   "source": [
    "## Slightly more sophisticated version of the Algorithm \n",
    "seq_cost = IPython.display.Image(\"http://i.imgur.com/YNLSHTn.png\")\n",
    "seq_cost"
   ]
  },
  {
   "cell_type": "markdown",
   "metadata": {},
   "source": [
    "## Statistical Inference"
   ]
  },
  {
   "cell_type": "markdown",
   "metadata": {},
   "source": [
    "How do we know the observed difference is not just due to random chance?  Is there some way to compute the probability that we got an observe this or more extreme assuming that Dentist did not play any role in giving his patients HIV? (In statistics this is called a p-value)"
   ]
  },
  {
   "cell_type": "markdown",
   "metadata": {},
   "source": [
    "## Wilcoxon Rank Sum Statistic"
   ]
  },
  {
   "cell_type": "markdown",
   "metadata": {},
   "source": [
    "How to Calculate Wilcoxon Rank Sum Statistic\n",
    "1. Rank all of the distances to Distance and Rank them\n",
    "2. Calculate Likelyhood that the two groups (control and patients would contain Rankings as or more extreme as the one calculated by our distance function"
   ]
  },
  {
   "cell_type": "code",
   "execution_count": null,
   "metadata": {
    "collapsed": false
   },
   "outputs": [],
   "source": [
    "## Slightly more sophisticated version of the Algorithm \n",
    "seq_cost = IPython.display.Image(\"http://i.imgur.com/zmbIuhC.png\")\n",
    "seq_cost\n"
   ]
  },
  {
   "cell_type": "markdown",
   "metadata": {},
   "source": [
    "Beyond any Reasonable Doubt we get that the Dentist Gave HIV to his patients!!"
   ]
  },
  {
   "cell_type": "code",
   "execution_count": null,
   "metadata": {
    "collapsed": false
   },
   "outputs": [],
   "source": [
    "## Slightly more sophisticated version of the Algorithm \n",
    "seq_cost = IPython.display.Image(\"http://i.imgur.com/VNLTMHx.jpg\")\n",
    "seq_cost"
   ]
  }
 ],
 "metadata": {
  "kernelspec": {
   "display_name": "Python 2",
   "language": "python",
   "name": "python2"
  },
  "language_info": {
   "codemirror_mode": {
    "name": "ipython",
    "version": 2
   },
   "file_extension": ".py",
   "mimetype": "text/x-python",
   "name": "python",
   "nbconvert_exporter": "python",
   "pygments_lexer": "ipython2",
   "version": "2.7.10"
  }
 },
 "nbformat": 4,
 "nbformat_minor": 0
}
