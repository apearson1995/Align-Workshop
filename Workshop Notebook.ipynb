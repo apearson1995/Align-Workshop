{
 "cells": [
  {
   "cell_type": "markdown",
   "metadata": {
    "collapsed": true
   },
   "source": [
    "# Align Workshop 1: Intro to Computation"
   ]
  },
  {
   "cell_type": "code",
   "execution_count": 2,
   "metadata": {
    "collapsed": true
   },
   "outputs": [],
   "source": [
    "# This code loads in the data and necessary code for the project\n",
    "from data import *\n",
    "from library import *\n",
    "from tests import *\n",
    "import numpy as np"
   ]
  },
  {
   "cell_type": "markdown",
   "metadata": {},
   "source": [
    "## Basic Definitions, Concepts, and Syntax"
   ]
  },
  {
   "cell_type": "markdown",
   "metadata": {},
   "source": [
    "Hit Shift enter to on the corresponding cell that you want to run."
   ]
  },
  {
   "cell_type": "code",
   "execution_count": 14,
   "metadata": {
    "collapsed": false
   },
   "outputs": [
    {
     "data": {
      "text/plain": [
       "10"
      ]
     },
     "execution_count": 14,
     "metadata": {},
     "output_type": "execute_result"
    }
   ],
   "source": [
    "## Arithmetic Feel Free to play around with this cell\n",
    "5+5"
   ]
  },
  {
   "cell_type": "markdown",
   "metadata": {},
   "source": [
    "## What is assignment?"
   ]
  },
  {
   "cell_type": "code",
   "execution_count": 15,
   "metadata": {
    "collapsed": false
   },
   "outputs": [],
   "source": [
    "foo = 3"
   ]
  },
  {
   "cell_type": "markdown",
   "metadata": {},
   "source": [
    "## What is a string?"
   ]
  },
  {
   "cell_type": "markdown",
   "metadata": {},
   "source": [
    "Roughly high level picture is putting quotes around any number of characters. For example, below shows two strings that hold DNA sequences. A lot of computing deals with strings and lucky for us the people who made Python created some useful commands for dealing with strings"
   ]
  },
  {
   "cell_type": "code",
   "execution_count": 11,
   "metadata": {
    "collapsed": true
   },
   "outputs": [],
   "source": [
    "string_1 = \"GGACTAGCA\"\n",
    "string_2 = \"GGACTTTCT\" "
   ]
  },
  {
   "cell_type": "markdown",
   "metadata": {},
   "source": [
    "Starting with the basics let's see if we can just get the string to print."
   ]
  },
  {
   "cell_type": "code",
   "execution_count": 12,
   "metadata": {
    "collapsed": false
   },
   "outputs": [
    {
     "name": "stdout",
     "output_type": "stream",
     "text": [
      "GGACTAGCA\n"
     ]
    }
   ],
   "source": [
    "print(string_1)"
   ]
  },
  {
   "cell_type": "code",
   "execution_count": 31,
   "metadata": {
    "collapsed": false
   },
   "outputs": [
    {
     "data": {
      "text/plain": [
       "9"
      ]
     },
     "execution_count": 31,
     "metadata": {},
     "output_type": "execute_result"
    }
   ],
   "source": [
    "len(string_1)"
   ]
  },
  {
   "cell_type": "markdown",
   "metadata": {},
   "source": [
    "Fun Fact: the way \"notebooks\" work if you just type in an object into an empty cell and run it, the notebook will call print on the string "
   ]
  },
  {
   "cell_type": "markdown",
   "metadata": {},
   "source": [
    "Analysis of Strings (Note Strings are 0-indexed):"
   ]
  },
  {
   "cell_type": "code",
   "execution_count": 17,
   "metadata": {
    "collapsed": false
   },
   "outputs": [
    {
     "data": {
      "text/plain": [
       "'G'"
      ]
     },
     "execution_count": 17,
     "metadata": {},
     "output_type": "execute_result"
    }
   ],
   "source": [
    "string_1[0]  "
   ]
  },
  {
   "cell_type": "code",
   "execution_count": 19,
   "metadata": {
    "collapsed": false
   },
   "outputs": [
    {
     "data": {
      "text/plain": [
       "True"
      ]
     },
     "execution_count": 19,
     "metadata": {},
     "output_type": "execute_result"
    }
   ],
   "source": [
    "## check if two letters are the same\n",
    "string_1[0] == \"G\""
   ]
  },
  {
   "cell_type": "code",
   "execution_count": 20,
   "metadata": {
    "collapsed": true
   },
   "outputs": [],
   "source": [
    "### Feel Free to use this cell to play around with == sign using strings, numbers, and whatever else you like"
   ]
  },
  {
   "cell_type": "markdown",
   "metadata": {},
   "source": [
    "Notice the == sign above. We can use the double equals sign to check if two things are equal to one another. In particular this == sign can be used in our code for \"conditional statements\" which are basically just ways that we can control the flow of our code.  For a more concrete example, see below."
   ]
  },
  {
   "cell_type": "code",
   "execution_count": 21,
   "metadata": {
    "collapsed": false
   },
   "outputs": [
    {
     "name": "stdout",
     "output_type": "stream",
     "text": [
      "Stay in school study hard and don't do drugs\n"
     ]
    }
   ],
   "source": [
    "age = 13\n",
    "if   age >= 60:\n",
    "    print(\"Congratulations you are a senior citizen enjoy half off your breakfast at Denny's\")\n",
    "elif age >= 18:\n",
    "    print(\"Congratulations you are no longer a child\")\n",
    "else:\n",
    "    print(\"Stay in school study hard and don't do drugs\")"
   ]
  },
  {
   "cell_type": "markdown",
   "metadata": {},
   "source": [
    "From above we see that we can go through and change age manually, and re-run the cell each time to get age, but that is very time consuming. Wouldn't it be great if we could somehow package this logic in such a way that we can quickly use it on an age without constantly re-running the cell?"
   ]
  },
  {
   "cell_type": "code",
   "execution_count": 27,
   "metadata": {
    "collapsed": false
   },
   "outputs": [
    {
     "name": "stdout",
     "output_type": "stream",
     "text": [
      "Congratulations you are a senior citizen enjoy your breakfast at Denny's\n"
     ]
    }
   ],
   "source": [
    "def advice_giver(age):\n",
    "    if   age >= 60:\n",
    "        return(\"Congratulations you are a senior citizen enjoy your breakfast at Denny's\")\n",
    "    elif age >= 18:\n",
    "        return(\"Congratulations you are an adult\")\n",
    "    else:\n",
    "        return(\"Enjoy Childhood while it lasts\")\n",
    "        \n",
    "advice_giver(99)"
   ]
  },
  {
   "cell_type": "markdown",
   "metadata": {},
   "source": [
    "Since we will want to reuse our code agaian and again, we will want to put our code for counting the proportion of differences into a function."
   ]
  },
  {
   "cell_type": "code",
   "execution_count": 33,
   "metadata": {
    "collapsed": true
   },
   "outputs": [],
   "source": [
    "\"\"\"\n",
    "Computes proportion of differing letters from two strings of the same size\n",
    "Args:\n",
    "    s1: string 1\n",
    "    s2: string 2 \n",
    "Returns:\n",
    "    proportion (in between 0 and 1) of differing letters\n",
    "\"\"\"\n",
    "\n",
    "def prop_diff(s1,s2):\n",
    "    # Your Code Here\n",
    "    return "
   ]
  },
  {
   "cell_type": "markdown",
   "metadata": {},
   "source": [
    "## Natural Questions:\n",
    "\n",
    "Why did we change print to return in the translation from \"loose code\" to the function?  The reason is a bit technical, but in general when we are writing functions we want to use return instead of print because  because it is easier to \"assign\" values returned from a \"return statement\" than a \"print statement\". \n",
    "\n",
    "\n",
    "Furthermore you may be wondering how we obtain the data from the dentist and his patients (i.e. do we have to type out an entire sequence manually into the computer.) The short answer to this question is no. We have already done all of the data acquisitioin and clean up for you.  But do note in the \"real world\" cleaning and processing data is a very important skill to have. "
   ]
  },
  {
   "cell_type": "code",
   "execution_count": 30,
   "metadata": {
    "collapsed": false
   },
   "outputs": [
    {
     "data": {
      "text/plain": [
       "u'CTAGCAGAAGAAGAGGTAGTAATTAGATCTGCCAATTTCACAGACAATGCTAAAATCATAATAGTACAGCTGAATGCATCTGTAGAAATTAATTGTACAAGGCCCAACAACAATACAAGAAAAGGTATACATATAGGACCAGGGAGAGCATTTTATGCAACAGGAGAAATAATAGGAGATATAAGACAAGCACATTGTAACATTAGTAGAGAAAAATGGAATAATACTTTAAACCAGGTAGTTACAGAATTAAGGGAACAATTTGGGAATAAAACAATAACCTTTAATCACTCCTCAGGAGGGGACCCAGAAATTGTAATGCACA'"
      ]
     },
     "execution_count": 30,
     "metadata": {},
     "output_type": "execute_result"
    }
   ],
   "source": [
    "dnt"
   ]
  },
  {
   "cell_type": "code",
   "execution_count": 32,
   "metadata": {
    "collapsed": false
   },
   "outputs": [
    {
     "data": {
      "text/plain": [
       "325"
      ]
     },
     "execution_count": 32,
     "metadata": {},
     "output_type": "execute_result"
    }
   ],
   "source": [
    "len(dnt)"
   ]
  },
  {
   "cell_type": "markdown",
   "metadata": {},
   "source": [
    "Up until know it may have been reasonable, with say very small strings of say size 9 as in our first example, to write out all of the cases manually in a function. (i.e. to make our computer to calculate proportion of change with the following code: "
   ]
  },
  {
   "cell_type": "code",
   "execution_count": 34,
   "metadata": {
    "collapsed": true
   },
   "outputs": [],
   "source": [
    "\"\"\"\n",
    "Computes proportion of differing letters from two strings of the same size\n",
    "Args:\n",
    "    s1: string 1\n",
    "    s2: string 2 \n",
    "Returns:\n",
    "    proportion (in between 0 and 1) of differing letters\n",
    "\"\"\"\n",
    "\n",
    "def prop_diff(s1,s2):\n",
    "    num_diffs = 0\n",
    "    if s1[0] == s1[0]:\n",
    "        num_diffs = num_diffs + 1\n",
    "    if s1[1] == s1[1]:\n",
    "        num_diffs = num_diffs + 1\n",
    "    if s1[2] == s1[2]:\n",
    "        num_diffs = num_diffs + 1\n",
    "    if s1[3] == s1[3]:\n",
    "        num_diffs = num_diffs + 1\n",
    "    if s1[4] == s1[4]:\n",
    "        num_diffs = num_diffs + 1\n",
    "    if s1[5] == s1[5]:\n",
    "        num_diffs = num_diffs + 1\n",
    "    if s1[6] == s1[6]:\n",
    "        num_diffs = num_diffs + 1\n",
    "    if s1[7] == s1[7]:\n",
    "        num_diffs = num_diffs + 1\n",
    "    if s1[8] == s1[8]:\n",
    "        num_diffs = num_diffs + 1\n",
    "    return num_diffs/9"
   ]
  },
  {
   "cell_type": "markdown",
   "metadata": {},
   "source": [
    "This strategy suffers 2 major draw backs:\n",
    "1. It is not easily generalizable to do this, in other words we will have to write a new function for every string size.\n",
    "2. It was already very tedious doing it this way for strings of length 9, Imagine doing so for a string of size 325.\n",
    "\n",
    "The key solution to our problem is the while loop."
   ]
  },
  {
   "cell_type": "markdown",
   "metadata": {},
   "source": [
    "### What is a \"loop\", and how can it be used?"
   ]
  },
  {
   "cell_type": "markdown",
   "metadata": {},
   "source": [
    "A loop is a tool used by programmers to repeat a sequence of instructions until a certain condition is reached. For example, in the while loop below, the inner code is computed until the condition (i being less than the length of the string) is no longer true."
   ]
  },
  {
   "cell_type": "code",
   "execution_count": 35,
   "metadata": {
    "collapsed": false
   },
   "outputs": [
    {
     "data": {
      "text/plain": [
       "3"
      ]
     },
     "execution_count": 35,
     "metadata": {},
     "output_type": "execute_result"
    }
   ],
   "source": [
    "i     = 0\n",
    "num_G = 0\n",
    "while i < len(string_1):\n",
    "    if string_1[i] == \"G\":\n",
    "        num_G = num_G + 1\n",
    "    i = i + 1\n",
    "num_G"
   ]
  },
  {
   "cell_type": "markdown",
   "metadata": {},
   "source": [
    "## Your Turn Try to write prop_diff function using a while loop"
   ]
  },
  {
   "cell_type": "code",
   "execution_count": null,
   "metadata": {
    "collapsed": true
   },
   "outputs": [],
   "source": [
    "\"\"\"\n",
    "Computes proportion of differing letters from two strings of the same size\n",
    "Args:\n",
    "    s1: string 1\n",
    "    s2: string 2 \n",
    "Returns:\n",
    "    proportion (in between 0 and 1) of differing letters\n",
    "\"\"\"\n",
    "\n",
    "def prop_diff(s1,s2):\n",
    "    # Your Code Here\n",
    "    return "
   ]
  },
  {
   "cell_type": "code",
   "execution_count": null,
   "metadata": {
    "collapsed": true
   },
   "outputs": [],
   "source": [
    "# Run the following code to test your function\n",
    "test_prop_diff(prop_diff) "
   ]
  },
  {
   "cell_type": "markdown",
   "metadata": {},
   "source": [
    "But this function does not tell all of the story  It turns out it is useful to instead calculate two different proportions of the string, because due to the chemical properties of the molecules some exchanges are more likely to occur than others, and we can improve oujr algorithm by taking this into account. Fortunately for us this algorithm is very similiar to the previous one we just wrote."
   ]
  },
  {
   "cell_type": "markdown",
   "metadata": {},
   "source": [
    "# More Sophisticated Distance"
   ]
  },
  {
   "cell_type": "markdown",
   "metadata": {},
   "source": [
    "See if you can understand why the below code works, it should make sense if you understand prop_diff."
   ]
  },
  {
   "cell_type": "code",
   "execution_count": 39,
   "metadata": {
    "collapsed": true
   },
   "outputs": [],
   "source": [
    "\"\"\"\n",
    "Compute proportion of transitions from two strings of the of the same length. \n",
    "\n",
    "Transitions are  (A<->G, C<->T)\n",
    "\n",
    "Args: \n",
    "    s1: string 1\n",
    "    s2: string 2\n",
    "\n",
    "Return:\n",
    "    Error if the strings are not of same length\n",
    "    Else, return a and b of different letters\n",
    "\"\"\"\n",
    "def prop_trs(s1,s2):\n",
    "    # Your Code Here\n",
    "    if len(s1) != len(s2):\n",
    "        raise ValueError(\"Cannot compute compare DNA sequences of differing length\")\n",
    "    diffs = 0\n",
    "    i     = 0\n",
    "    while i < len(s1):\n",
    "        if s1[i] == \"A\" and s2[i] == \"G\":\n",
    "            diffs += 1\n",
    "        elif s1[i] == \"G\" and s2[i] == \"A\":\n",
    "            diffs += 1\n",
    "        elif s1[i] == \"C\" and s2[i] == \"T\":\n",
    "            diffs += 1\n",
    "        elif s1[i] == \"T\" and s2[i] == \"C\":\n",
    "            diffs += 1\n",
    "        i += 1\n",
    "    return float(diffs)/float(len(s1))"
   ]
  },
  {
   "cell_type": "code",
   "execution_count": 38,
   "metadata": {
    "collapsed": true
   },
   "outputs": [],
   "source": [
    "\"\"\"\n",
    "Compute proportion of transversions from two strings of the same length. \n",
    "\n",
    "Transversions are (A<->C, A<->T, C<->G, G<->T).\n",
    "\n",
    "Args: \n",
    "    s1: string 1\n",
    "    s2: string 2\n",
    "\n",
    "Return:\n",
    "    Error if the strings are not of same length\n",
    "    Else, return a and b of different letters\n",
    "\"\"\"\n",
    "def prop_trv(s1,s2):\n",
    "    # Your Code Here\n",
    "    if len(s1) != len(s2):\n",
    "        raise ValueError(\"Cannot compute compare DNA sequences of differing length\")\n",
    "    diffs = 0\n",
    "    i     = 0\n",
    "    while i < len(s1):\n",
    "        if s1[i] == \"A\" and s2[i] == \"C\":\n",
    "            diffs += 1\n",
    "        elif s1[i] == \"C\" and s2[i] == \"A\":\n",
    "            diffs += 1\n",
    "        elif s1[i] == \"A\" and s2[i] == \"T\":\n",
    "            diffs += 1\n",
    "        elif s1[i] == \"T\" and s2[i] == \"A\":\n",
    "            diffs += 1\n",
    "        elif s1[i] == \"C\" and s2[i] == \"G\":\n",
    "            diffs += 1\n",
    "        elif s1[i] == \"G\" and s2[i] == \"C\":\n",
    "            diffs += 1\n",
    "        elif s1[i] == \"G\" and s2[i] == \"T\":\n",
    "            diffs += 1\n",
    "        elif s1[i] == \"T\" and s2[i] == \"G\":\n",
    "            diffs += 1\n",
    "        i += 1\n",
    "    return float(diffs)/float(len(s1))"
   ]
  },
  {
   "cell_type": "markdown",
   "metadata": {},
   "source": [
    "# An Apology Look at Slides"
   ]
  },
  {
   "cell_type": "code",
   "execution_count": null,
   "metadata": {
    "collapsed": true
   },
   "outputs": [],
   "source": []
  },
  {
   "cell_type": "code",
   "execution_count": null,
   "metadata": {
    "collapsed": true
   },
   "outputs": [],
   "source": []
  },
  {
   "cell_type": "code",
   "execution_count": null,
   "metadata": {
    "collapsed": true
   },
   "outputs": [],
   "source": []
  },
  {
   "cell_type": "code",
   "execution_count": null,
   "metadata": {
    "collapsed": true
   },
   "outputs": [],
   "source": []
  },
  {
   "cell_type": "markdown",
   "metadata": {},
   "source": [
    "# Jukes Cantor Distance"
   ]
  },
  {
   "cell_type": "code",
   "execution_count": 46,
   "metadata": {
    "collapsed": false
   },
   "outputs": [
    {
     "data": {
      "text/plain": [
       "1.4054651081081642"
      ]
     },
     "execution_count": 46,
     "metadata": {},
     "output_type": "execute_result"
    }
   ],
   "source": [
    "# Example of Jukes-Cantor Distance\n",
    "JC_distance(\"ATTGAC\",\"ATGGCC\")"
   ]
  },
  {
   "cell_type": "markdown",
   "metadata": {},
   "source": [
    "# Pairwise Distance Matrix"
   ]
  },
  {
   "cell_type": "code",
   "execution_count": 47,
   "metadata": {
    "collapsed": false
   },
   "outputs": [
    {
     "name": "stdout",
     "output_type": "stream",
     "text": [
      "[[ 0.          1.04725288  1.05048391  1.13837828  1.51596702  1.12434297]\n",
      " [ 0.          0.          1.06679748  1.14191811  1.50062145  1.12783337]\n",
      " [ 0.          0.          0.          1.14547051  1.52632981  1.14547051]\n",
      " [ 0.          0.          0.          0.          1.51082562  1.1208647 ]\n",
      " [ 0.          0.          0.          0.          0.          1.48550782]\n",
      " [ 0.          0.          0.          0.          0.          0.        ]]\n"
     ]
    }
   ],
   "source": [
    "pairwise_distances = JC_matrix_maker(HIV_seqs)\n",
    "print(pairwise_distances)"
   ]
  },
  {
   "cell_type": "markdown",
   "metadata": {},
   "source": [
    " Making a tree from the pairwise distances is significantly more complicated of a task.  But fortunately a lot of very smart people have been thinking about this problem for a very long time, and they have developed a lot of very good algorithms to solve this problem.  One of the many algorithms used to do this is the \"UPGMA\" algorithm. Although \"UPGMA\" was not the Algorithm used by the investigators of the HIV dentist mystery, it is close enough of an approximation for the purposes of this workshop, and is a pre-requisite for understanding more sophisticated methods.\n",
    "UPGMA is short for Unweighted Pair Group Method with Arithmetic Mean.  While this sounds like a mouthful, there is a great tutorial on http://www.southampton.ac.uk/~re1u06/teaching/upgma/ (click the link).\n",
    "\n",
    "After Running the Algorithm we get:"
   ]
  },
  {
   "cell_type": "code",
   "execution_count": 48,
   "metadata": {
    "collapsed": false
   },
   "outputs": [
    {
     "data": {
      "image/png": "[encoded data removed]",
      "text/plain": [
       "<IPython.core.display.Image object>"
      ]
     },
     "execution_count": 48,
     "metadata": {},
     "output_type": "execute_result"
    }
   ],
   "source": [
    "# Ignore this code\n",
    "import IPython.display \n",
    "seq_cost = IPython.display.Image(\"http://i.imgur.com/TnD7gsh.png\")\n",
    "seq_cost"
   ]
  },
  {
   "cell_type": "code",
   "execution_count": null,
   "metadata": {
    "collapsed": true
   },
   "outputs": [],
   "source": []
  }
 ],
 "metadata": {
  "kernelspec": {
   "display_name": "Python 2",
   "language": "python",
   "name": "python2"
  },
  "language_info": {
   "codemirror_mode": {
    "name": "ipython",
    "version": 2
   },
   "file_extension": ".py",
   "mimetype": "text/x-python",
   "name": "python",
   "nbconvert_exporter": "python",
   "pygments_lexer": "ipython2",
   "version": "2.7.10"
  }
 },
 "nbformat": 4,
 "nbformat_minor": 0
}
